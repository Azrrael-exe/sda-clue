{
 "cells": [
  {
   "cell_type": "code",
   "execution_count": 1,
   "metadata": {},
   "outputs": [],
   "source": [
    "import json\n",
    "\n",
    "from copy import deepcopy\n",
    "from random import choice, shuffle\n",
    "\n",
    "from entities.clue import Clue\n",
    "from entities.room import Room\n",
    "from entities.weapon import Weapon\n",
    "from entities.suspicious import Suspicious\n",
    "\n",
    "from entities.agent import Agent\n",
    "\n",
    "from entities.crime import Crime\n",
    "\n",
    "from utils.clue_utils import classify_clues"
   ]
  },
  {
   "cell_type": "markdown",
   "metadata": {},
   "source": [
    "#### Load raw data"
   ]
  },
  {
   "cell_type": "code",
   "execution_count": 2,
   "metadata": {},
   "outputs": [],
   "source": [
    "with open('data/cards.json', 'r') as file:\n",
    "    cards = json.load(file)"
   ]
  },
  {
   "cell_type": "code",
   "execution_count": 3,
   "metadata": {},
   "outputs": [
    {
     "data": {
      "text/plain": [
       "{'weapons': ['Candlestick', 'Knife', 'Pipe', 'Revolver', 'Rope', 'Wrench'],\n",
       " 'suspicious': ['Miss Scarlett',\n",
       "  'Mr. Green',\n",
       "  'Colonel Mustard',\n",
       "  'Professor Plum',\n",
       "  'Mrs. Peacock',\n",
       "  'Mrs. White'],\n",
       " 'rooms': ['Kitchen',\n",
       "  'Ballroom',\n",
       "  'Conservatory',\n",
       "  'Dining Room',\n",
       "  'Billiard Room',\n",
       "  'Library',\n",
       "  'Lounge',\n",
       "  'Hall',\n",
       "  'Study']}"
      ]
     },
     "execution_count": 3,
     "metadata": {},
     "output_type": "execute_result"
    }
   ],
   "source": [
    "cards"
   ]
  },
  {
   "cell_type": "markdown",
   "metadata": {},
   "source": [
    "#### Build Cards"
   ]
  },
  {
   "cell_type": "code",
   "execution_count": 4,
   "metadata": {},
   "outputs": [],
   "source": [
    "clues = []\n",
    "id_counter = 0\n",
    "for key, values in cards.items():\n",
    "    if key == 'weapons':\n",
    "        for value in values:\n",
    "            clues.append(Weapon(name=value, clue_id=id_counter))\n",
    "            id_counter += 1\n",
    "    if key == 'rooms':\n",
    "        for value in values:\n",
    "            clues.append(Room(name=value, clue_id=id_counter))\n",
    "            id_counter += 1\n",
    "    if key == 'suspicious':\n",
    "        for value in values:\n",
    "            clues.append(Suspicious(name=value, clue_id=id_counter))\n",
    "            id_counter += 1"
   ]
  },
  {
   "cell_type": "code",
   "execution_count": 5,
   "metadata": {},
   "outputs": [],
   "source": [
    "raw_clues = deepcopy(clues)"
   ]
  },
  {
   "cell_type": "code",
   "execution_count": 6,
   "metadata": {},
   "outputs": [
    {
     "data": {
      "text/plain": [
       "[<entities.weapon.Weapon at 0x7f1b5175dbd0>,\n",
       " <entities.weapon.Weapon at 0x7f1b5175d210>,\n",
       " <entities.weapon.Weapon at 0x7f1b5175d550>,\n",
       " <entities.weapon.Weapon at 0x7f1b5175d0d0>,\n",
       " <entities.weapon.Weapon at 0x7f1b5175d2d0>,\n",
       " <entities.weapon.Weapon at 0x7f1b5175d290>,\n",
       " <entities.suspicious.Suspicious at 0x7f1b5175df50>,\n",
       " <entities.suspicious.Suspicious at 0x7f1b50f180d0>,\n",
       " <entities.suspicious.Suspicious at 0x7f1b50f18150>,\n",
       " <entities.suspicious.Suspicious at 0x7f1b50f18190>,\n",
       " <entities.suspicious.Suspicious at 0x7f1b50f181d0>,\n",
       " <entities.suspicious.Suspicious at 0x7f1b50f18210>,\n",
       " <entities.room.Room at 0x7f1b50f18390>,\n",
       " <entities.room.Room at 0x7f1b50f18490>,\n",
       " <entities.room.Room at 0x7f1b50f185d0>,\n",
       " <entities.room.Room at 0x7f1b50f18650>,\n",
       " <entities.room.Room at 0x7f1b50f18590>,\n",
       " <entities.room.Room at 0x7f1b50f18510>,\n",
       " <entities.room.Room at 0x7f1b50f18750>,\n",
       " <entities.room.Room at 0x7f1b50f18410>,\n",
       " <entities.room.Room at 0x7f1b50f182d0>]"
      ]
     },
     "execution_count": 6,
     "metadata": {},
     "output_type": "execute_result"
    }
   ],
   "source": [
    "raw_clues"
   ]
  },
  {
   "cell_type": "markdown",
   "metadata": {},
   "source": [
    "#### Pick Guilty"
   ]
  },
  {
   "cell_type": "code",
   "execution_count": 7,
   "metadata": {},
   "outputs": [],
   "source": [
    "weapons, rooms, suspicious = classify_clues(clues=clues)"
   ]
  },
  {
   "cell_type": "code",
   "execution_count": 8,
   "metadata": {},
   "outputs": [],
   "source": [
    "crime = Crime(weapon=choice(weapons), \n",
    "              room=choice(rooms), \n",
    "              suspicious=choice(suspicious))"
   ]
  },
  {
   "cell_type": "code",
   "execution_count": 9,
   "metadata": {},
   "outputs": [
    {
     "data": {
      "text/plain": [
       "{'suspicious': 'Colonel Mustard',\n",
       " 'weapon': 'Candlestick',\n",
       " 'room': 'Billiard Room'}"
      ]
     },
     "execution_count": 9,
     "metadata": {},
     "output_type": "execute_result"
    }
   ],
   "source": [
    "crime.to_dict(verbose=1)"
   ]
  },
  {
   "cell_type": "code",
   "execution_count": 10,
   "metadata": {},
   "outputs": [],
   "source": [
    "clues.remove(crime.room)\n",
    "clues.remove(crime.suspicious)\n",
    "clues.remove(crime.weapon)"
   ]
  },
  {
   "cell_type": "markdown",
   "metadata": {},
   "source": [
    "#### Split Cards into Groups"
   ]
  },
  {
   "cell_type": "code",
   "execution_count": 11,
   "metadata": {},
   "outputs": [],
   "source": [
    "shuffle(clues)"
   ]
  },
  {
   "cell_type": "code",
   "execution_count": 13,
   "metadata": {},
   "outputs": [
    {
     "data": {
      "text/plain": [
       "[<entities.room.Room at 0x7f1b50f18dd0>,\n",
       " <entities.suspicious.Suspicious at 0x7f1b50f18a10>,\n",
       " <entities.weapon.Weapon at 0x7f1b50f18910>,\n",
       " <entities.suspicious.Suspicious at 0x7f1b50f18ad0>,\n",
       " <entities.room.Room at 0x7f1b50f18d10>,\n",
       " <entities.room.Room at 0x7f1b50f18bd0>,\n",
       " <entities.suspicious.Suspicious at 0x7f1b50f18a90>,\n",
       " <entities.weapon.Weapon at 0x7f1b50f18a50>,\n",
       " <entities.suspicious.Suspicious at 0x7f1b50f18b90>,\n",
       " <entities.room.Room at 0x7f1b50f18c50>,\n",
       " <entities.room.Room at 0x7f1b50f18d50>,\n",
       " <entities.weapon.Weapon at 0x7f1b50f18950>,\n",
       " <entities.suspicious.Suspicious at 0x7f1b50f18b50>,\n",
       " <entities.weapon.Weapon at 0x7f1b50f189d0>,\n",
       " <entities.room.Room at 0x7f1b50f18c90>,\n",
       " <entities.room.Room at 0x7f1b50f18c10>,\n",
       " <entities.room.Room at 0x7f1b50f18d90>,\n",
       " <entities.weapon.Weapon at 0x7f1b50f18990>]"
      ]
     },
     "execution_count": 13,
     "metadata": {},
     "output_type": "execute_result"
    }
   ],
   "source": [
    "clues"
   ]
  },
  {
   "cell_type": "code",
   "execution_count": 14,
   "metadata": {},
   "outputs": [],
   "source": [
    "players = 6\n",
    "number_of_cards = int(len(clues)/players)\n",
    "grouped_cards = [\n",
    "    clues[i * number_of_cards:(i + 1) * number_of_cards] \n",
    "    for i in range((len(clues) + number_of_cards - 1) // number_of_cards )\n",
    "]"
   ]
  },
  {
   "cell_type": "code",
   "execution_count": 15,
   "metadata": {},
   "outputs": [
    {
     "data": {
      "text/plain": [
       "[[<entities.room.Room at 0x7f1b50f18dd0>,\n",
       "  <entities.suspicious.Suspicious at 0x7f1b50f18a10>,\n",
       "  <entities.weapon.Weapon at 0x7f1b50f18910>],\n",
       " [<entities.suspicious.Suspicious at 0x7f1b50f18ad0>,\n",
       "  <entities.room.Room at 0x7f1b50f18d10>,\n",
       "  <entities.room.Room at 0x7f1b50f18bd0>],\n",
       " [<entities.suspicious.Suspicious at 0x7f1b50f18a90>,\n",
       "  <entities.weapon.Weapon at 0x7f1b50f18a50>,\n",
       "  <entities.suspicious.Suspicious at 0x7f1b50f18b90>],\n",
       " [<entities.room.Room at 0x7f1b50f18c50>,\n",
       "  <entities.room.Room at 0x7f1b50f18d50>,\n",
       "  <entities.weapon.Weapon at 0x7f1b50f18950>],\n",
       " [<entities.suspicious.Suspicious at 0x7f1b50f18b50>,\n",
       "  <entities.weapon.Weapon at 0x7f1b50f189d0>,\n",
       "  <entities.room.Room at 0x7f1b50f18c90>],\n",
       " [<entities.room.Room at 0x7f1b50f18c10>,\n",
       "  <entities.room.Room at 0x7f1b50f18d90>,\n",
       "  <entities.weapon.Weapon at 0x7f1b50f18990>]]"
      ]
     },
     "execution_count": 15,
     "metadata": {},
     "output_type": "execute_result"
    }
   ],
   "source": [
    "grouped_cards"
   ]
  },
  {
   "cell_type": "markdown",
   "metadata": {},
   "source": [
    "#### Build Agents"
   ]
  },
  {
   "cell_type": "code",
   "execution_count": 16,
   "metadata": {},
   "outputs": [],
   "source": [
    "player_names = ['Dick tracy', 'Shelock', 'Watson', 'Inspector Gatget', 'Batman', 'Tintin']"
   ]
  },
  {
   "cell_type": "code",
   "execution_count": 17,
   "metadata": {},
   "outputs": [],
   "source": [
    "agents = [\n",
    "    Agent(name=name, clues=deepcopy(raw_clues), own_clues=cards) \n",
    "    for name, cards in zip(player_names, grouped_cards)\n",
    "]"
   ]
  },
  {
   "cell_type": "markdown",
   "metadata": {},
   "source": [
    "#### Run Turn"
   ]
  },
  {
   "cell_type": "code",
   "execution_count": 18,
   "metadata": {},
   "outputs": [],
   "source": [
    "guess = agents[0].guess()"
   ]
  },
  {
   "cell_type": "code",
   "execution_count": 19,
   "metadata": {},
   "outputs": [
    {
     "data": {
      "text/plain": [
       "{'suspicious': 'Miss Scarlett', 'weapon': 'Candlestick', 'room': 'Kitchen'}"
      ]
     },
     "execution_count": 19,
     "metadata": {},
     "output_type": "execute_result"
    }
   ],
   "source": [
    "guess.to_dict(verbose=1)"
   ]
  },
  {
   "cell_type": "code",
   "execution_count": 20,
   "metadata": {},
   "outputs": [],
   "source": [
    "response = {}\n",
    "for index in range(1,6):\n",
    "    response.update(agents[index].response(question=guess))"
   ]
  },
  {
   "cell_type": "code",
   "execution_count": 21,
   "metadata": {},
   "outputs": [
    {
     "data": {
      "text/plain": [
       "{<entities.room.Room at 0x7f1b3bc24950>: 1,\n",
       " <entities.suspicious.Suspicious at 0x7f1b3bc24690>: 1}"
      ]
     },
     "execution_count": 21,
     "metadata": {},
     "output_type": "execute_result"
    }
   ],
   "source": [
    "response"
   ]
  },
  {
   "cell_type": "code",
   "execution_count": 22,
   "metadata": {},
   "outputs": [],
   "source": [
    "if not len(response):\n",
    "    print(crime.to_dict(verbose=1))\n",
    "    print(guess.to_dict(verbose=1))\n",
    "    assert crime.to_dict(verbose=1) == guess.to_dict(verbose=1)"
   ]
  },
  {
   "cell_type": "code",
   "execution_count": 24,
   "metadata": {},
   "outputs": [],
   "source": [
    "agents[0].process_response(response=response)"
   ]
  },
  {
   "cell_type": "code",
   "execution_count": 25,
   "metadata": {},
   "outputs": [
    {
     "data": {
      "text/plain": [
       "{'Kitchen': 1,\n",
       " 'Ballroom': 0.1111111111111111,\n",
       " 'Conservatory': 0.1111111111111111,\n",
       " 'Dining Room': 0.1111111111111111,\n",
       " 'Billiard Room': 0.1111111111111111,\n",
       " 'Library': 0.1111111111111111,\n",
       " 'Lounge': 0.1111111111111111,\n",
       " 'Hall': 0.1111111111111111,\n",
       " 'Study': 1,\n",
       " 'Candlestick': 0.16666666666666666,\n",
       " 'Knife': 1,\n",
       " 'Pipe': 0.16666666666666666,\n",
       " 'Revolver': 0.16666666666666666,\n",
       " 'Rope': 0.16666666666666666,\n",
       " 'Wrench': 0.16666666666666666,\n",
       " 'Miss Scarlett': 1,\n",
       " 'Mr. Green': 0.16666666666666666,\n",
       " 'Colonel Mustard': 0.16666666666666666,\n",
       " 'Professor Plum': 1,\n",
       " 'Mrs. Peacock': 0.16666666666666666,\n",
       " 'Mrs. White': 0.16666666666666666}"
      ]
     },
     "execution_count": 25,
     "metadata": {},
     "output_type": "execute_result"
    }
   ],
   "source": [
    "agents[0].report()"
   ]
  },
  {
   "cell_type": "code",
   "execution_count": null,
   "metadata": {},
   "outputs": [],
   "source": []
  }
 ],
 "metadata": {
  "kernelspec": {
   "display_name": "Python 3",
   "language": "python",
   "name": "python3"
  },
  "language_info": {
   "codemirror_mode": {
    "name": "ipython",
    "version": 3
   },
   "file_extension": ".py",
   "mimetype": "text/x-python",
   "name": "python",
   "nbconvert_exporter": "python",
   "pygments_lexer": "ipython3",
   "version": "3.7.6"
  }
 },
 "nbformat": 4,
 "nbformat_minor": 4
}
